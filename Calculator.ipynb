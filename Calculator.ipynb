{
  "nbformat": 4,
  "nbformat_minor": 0,
  "metadata": {
    "colab": {
      "provenance": []
    },
    "kernelspec": {
      "name": "python3",
      "display_name": "Python 3"
    },
    "language_info": {
      "name": "python"
    }
  },
  "cells": [
    {
      "cell_type": "code",
      "execution_count": 1,
      "metadata": {
        "colab": {
          "base_uri": "https://localhost:8080/"
        },
        "id": "QB0AhgGLU-02",
        "outputId": "55e21fd0-c824-4b2e-9638-f42011967af7"
      },
      "outputs": [
        {
          "name": "stdout",
          "output_type": "stream",
          "text": [
            "1. Add\n",
            "2. Subtract\n",
            "3. Multiply\n",
            "4. Divide\n",
            "5. Exit\n",
            "Choose: 3\n",
            "First: 200\n",
            "Second: 500\n",
            "Result: 100000.0\n",
            "1. Add\n",
            "2. Subtract\n",
            "3. Multiply\n",
            "4. Divide\n",
            "5. Exit\n",
            "Choose: 4\n",
            "First: 10\n",
            "Second: 2\n",
            "Result: 5.0\n",
            "1. Add\n",
            "2. Subtract\n",
            "3. Multiply\n",
            "4. Divide\n",
            "5. Exit\n",
            "Choose: 5\n"
          ]
        }
      ],
      "source": [
        "def add(a, b):\n",
        "    return a + b\n",
        "\n",
        "def sub(a, b):\n",
        "    return a - b\n",
        "\n",
        "def mul(a, b):\n",
        "    return a * b\n",
        "\n",
        "def div(a, b):\n",
        "    if b == 0:\n",
        "        return \"Error\"\n",
        "    return a / b\n",
        "\n",
        "while True:\n",
        "    print(\"1. Add\")\n",
        "    print(\"2. Subtract\")\n",
        "    print(\"3. Multiply\")\n",
        "    print(\"4. Divide\")\n",
        "    print(\"5. Exit\")\n",
        "\n",
        "    ch = input(\"Choose: \")\n",
        "\n",
        "    if ch == '5':\n",
        "        break\n",
        "\n",
        "    x = float(input(\"First: \"))\n",
        "    y = float(input(\"Second: \"))\n",
        "\n",
        "    if ch == '1':\n",
        "        print(\"Result:\", add(x, y))\n",
        "    elif ch == '2':\n",
        "        print(\"Result:\", sub(x, y))\n",
        "    elif ch == '3':\n",
        "        print(\"Result:\", mul(x, y))\n",
        "    elif ch == '4':\n",
        "        print(\"Result:\", div(x, y))\n",
        "    else:\n",
        "        print(\"Invalid\")\n"
      ]
    }
  ]
}